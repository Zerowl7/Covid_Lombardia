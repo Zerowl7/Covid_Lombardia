{
  "nbformat": 4,
  "nbformat_minor": 0,
  "metadata": {
    "colab": {
      "name": "Test_Minaev_(Covid-2019).ipynb",
      "provenance": [],
      "collapsed_sections": [],
      "authorship_tag": "ABX9TyMba07lsA2HU5XIo1bhWjWk",
      "include_colab_link": true
    },
    "kernelspec": {
      "name": "python3",
      "display_name": "Python 3"
    },
    "language_info": {
      "name": "python"
    }
  },
  "cells": [
    {
      "cell_type": "markdown",
      "metadata": {
        "id": "view-in-github",
        "colab_type": "text"
      },
      "source": [
        "<a href=\"https://colab.research.google.com/github/Zerowl7/Covid_Lombardia/blob/main/Test_Minaev_(Covid_2019).ipynb\" target=\"_parent\"><img src=\"https://colab.research.google.com/assets/colab-badge.svg\" alt=\"Open In Colab\"/></a>"
      ]
    },
    {
      "cell_type": "markdown",
      "source": [
        "Постановка задачи:\n",
        "1. Скачать файл со статистическими данными по COVID-19 для областей Италии\n",
        "2. В полученном файле необходимо найти данные по выявленным случаям\n",
        "COVID-19 и умершим от COVID-19 для Ломбардии (область Италии)\n",
        "3. Для полученных данных рассчитать ежедневное количество выявленных\n",
        "случаев и умерших на 1 млн населения. Население указать в отдельной ячейке\n",
        "со ссылкой на источник. Расчетные данные представить в виде таблицы\n",
        "4. Также необходимо построить два графика:\n",
        "a. график, показывающий ежедневное количество выявленных случаев\n",
        "COVID-19, рассчитанных на 1 млн населения\n",
        "b. график, показывающий ежедневное количество умерших от COVID-19,\n",
        "рассчитанных на 1 млн населения"
      ],
      "metadata": {
        "id": "EUGOSmf1REBL"
      }
    },
    {
      "cell_type": "markdown",
      "source": [
        "1. Скачать файл со статистическими данными по COVID-19 для областей Италии"
      ],
      "metadata": {
        "id": "kR6OjTPkTUi4"
      }
    },
    {
      "cell_type": "code",
      "execution_count": 2,
      "metadata": {
        "id": "o8baqYA3Qs-A"
      },
      "outputs": [],
      "source": [
        "import numpy as np \n",
        "import pandas as pd \n",
        "import matplotlib.pyplot as plt\n",
        "import seaborn as sns\n",
        "import matplotlib.pyplot as plt"
      ]
    },
    {
      "cell_type": "code",
      "source": [
        "covid_italy = pd.read_csv('https://raw.githubusercontent.com/pcm-dpc/COVID-19/master/dati-regioni/dpc-covid19-ita-regioni.csv')"
      ],
      "metadata": {
        "id": "i9a-FutTQ2Vb"
      },
      "execution_count": 3,
      "outputs": []
    },
    {
      "cell_type": "code",
      "source": [
        "covid_italy.head()"
      ],
      "metadata": {
        "colab": {
          "base_uri": "https://localhost:8080/",
          "height": 386
        },
        "id": "auxg7DoOQ2MQ",
        "outputId": "5acbc8d2-cf10-43e6-c7b6-7fde8fde3a18"
      },
      "execution_count": 4,
      "outputs": [
        {
          "output_type": "execute_result",
          "data": {
            "text/plain": [
              "                  data stato  codice_regione denominazione_regione        lat  \\\n",
              "0  2020-02-24T18:00:00   ITA              13               Abruzzo  42.351222   \n",
              "1  2020-02-24T18:00:00   ITA              17            Basilicata  40.639471   \n",
              "2  2020-02-24T18:00:00   ITA              18              Calabria  38.905976   \n",
              "3  2020-02-24T18:00:00   ITA              15              Campania  40.839566   \n",
              "4  2020-02-24T18:00:00   ITA               8        Emilia-Romagna  44.494367   \n",
              "\n",
              "        long  ricoverati_con_sintomi  terapia_intensiva  totale_ospedalizzati  \\\n",
              "0  13.398438                       0                  0                     0   \n",
              "1  15.805148                       0                  0                     0   \n",
              "2  16.594402                       0                  0                     0   \n",
              "3  14.250850                       0                  0                     0   \n",
              "4  11.341721                      10                  2                    12   \n",
              "\n",
              "   isolamento_domiciliare  ...  note  ingressi_terapia_intensiva  note_test  \\\n",
              "0                       0  ...   NaN                         NaN        NaN   \n",
              "1                       0  ...   NaN                         NaN        NaN   \n",
              "2                       0  ...   NaN                         NaN        NaN   \n",
              "3                       0  ...   NaN                         NaN        NaN   \n",
              "4                       6  ...   NaN                         NaN        NaN   \n",
              "\n",
              "   note_casi  totale_positivi_test_molecolare  \\\n",
              "0        NaN                              NaN   \n",
              "1        NaN                              NaN   \n",
              "2        NaN                              NaN   \n",
              "3        NaN                              NaN   \n",
              "4        NaN                              NaN   \n",
              "\n",
              "   totale_positivi_test_antigenico_rapido  tamponi_test_molecolare  \\\n",
              "0                                     NaN                      NaN   \n",
              "1                                     NaN                      NaN   \n",
              "2                                     NaN                      NaN   \n",
              "3                                     NaN                      NaN   \n",
              "4                                     NaN                      NaN   \n",
              "\n",
              "   tamponi_test_antigenico_rapido  codice_nuts_1  codice_nuts_2  \n",
              "0                             NaN            NaN            NaN  \n",
              "1                             NaN            NaN            NaN  \n",
              "2                             NaN            NaN            NaN  \n",
              "3                             NaN            NaN            NaN  \n",
              "4                             NaN            NaN            NaN  \n",
              "\n",
              "[5 rows x 30 columns]"
            ],
            "text/html": [
              "\n",
              "  <div id=\"df-63502e6d-2fe5-4587-8825-56f1cb43c60b\">\n",
              "    <div class=\"colab-df-container\">\n",
              "      <div>\n",
              "<style scoped>\n",
              "    .dataframe tbody tr th:only-of-type {\n",
              "        vertical-align: middle;\n",
              "    }\n",
              "\n",
              "    .dataframe tbody tr th {\n",
              "        vertical-align: top;\n",
              "    }\n",
              "\n",
              "    .dataframe thead th {\n",
              "        text-align: right;\n",
              "    }\n",
              "</style>\n",
              "<table border=\"1\" class=\"dataframe\">\n",
              "  <thead>\n",
              "    <tr style=\"text-align: right;\">\n",
              "      <th></th>\n",
              "      <th>data</th>\n",
              "      <th>stato</th>\n",
              "      <th>codice_regione</th>\n",
              "      <th>denominazione_regione</th>\n",
              "      <th>lat</th>\n",
              "      <th>long</th>\n",
              "      <th>ricoverati_con_sintomi</th>\n",
              "      <th>terapia_intensiva</th>\n",
              "      <th>totale_ospedalizzati</th>\n",
              "      <th>isolamento_domiciliare</th>\n",
              "      <th>...</th>\n",
              "      <th>note</th>\n",
              "      <th>ingressi_terapia_intensiva</th>\n",
              "      <th>note_test</th>\n",
              "      <th>note_casi</th>\n",
              "      <th>totale_positivi_test_molecolare</th>\n",
              "      <th>totale_positivi_test_antigenico_rapido</th>\n",
              "      <th>tamponi_test_molecolare</th>\n",
              "      <th>tamponi_test_antigenico_rapido</th>\n",
              "      <th>codice_nuts_1</th>\n",
              "      <th>codice_nuts_2</th>\n",
              "    </tr>\n",
              "  </thead>\n",
              "  <tbody>\n",
              "    <tr>\n",
              "      <th>0</th>\n",
              "      <td>2020-02-24T18:00:00</td>\n",
              "      <td>ITA</td>\n",
              "      <td>13</td>\n",
              "      <td>Abruzzo</td>\n",
              "      <td>42.351222</td>\n",
              "      <td>13.398438</td>\n",
              "      <td>0</td>\n",
              "      <td>0</td>\n",
              "      <td>0</td>\n",
              "      <td>0</td>\n",
              "      <td>...</td>\n",
              "      <td>NaN</td>\n",
              "      <td>NaN</td>\n",
              "      <td>NaN</td>\n",
              "      <td>NaN</td>\n",
              "      <td>NaN</td>\n",
              "      <td>NaN</td>\n",
              "      <td>NaN</td>\n",
              "      <td>NaN</td>\n",
              "      <td>NaN</td>\n",
              "      <td>NaN</td>\n",
              "    </tr>\n",
              "    <tr>\n",
              "      <th>1</th>\n",
              "      <td>2020-02-24T18:00:00</td>\n",
              "      <td>ITA</td>\n",
              "      <td>17</td>\n",
              "      <td>Basilicata</td>\n",
              "      <td>40.639471</td>\n",
              "      <td>15.805148</td>\n",
              "      <td>0</td>\n",
              "      <td>0</td>\n",
              "      <td>0</td>\n",
              "      <td>0</td>\n",
              "      <td>...</td>\n",
              "      <td>NaN</td>\n",
              "      <td>NaN</td>\n",
              "      <td>NaN</td>\n",
              "      <td>NaN</td>\n",
              "      <td>NaN</td>\n",
              "      <td>NaN</td>\n",
              "      <td>NaN</td>\n",
              "      <td>NaN</td>\n",
              "      <td>NaN</td>\n",
              "      <td>NaN</td>\n",
              "    </tr>\n",
              "    <tr>\n",
              "      <th>2</th>\n",
              "      <td>2020-02-24T18:00:00</td>\n",
              "      <td>ITA</td>\n",
              "      <td>18</td>\n",
              "      <td>Calabria</td>\n",
              "      <td>38.905976</td>\n",
              "      <td>16.594402</td>\n",
              "      <td>0</td>\n",
              "      <td>0</td>\n",
              "      <td>0</td>\n",
              "      <td>0</td>\n",
              "      <td>...</td>\n",
              "      <td>NaN</td>\n",
              "      <td>NaN</td>\n",
              "      <td>NaN</td>\n",
              "      <td>NaN</td>\n",
              "      <td>NaN</td>\n",
              "      <td>NaN</td>\n",
              "      <td>NaN</td>\n",
              "      <td>NaN</td>\n",
              "      <td>NaN</td>\n",
              "      <td>NaN</td>\n",
              "    </tr>\n",
              "    <tr>\n",
              "      <th>3</th>\n",
              "      <td>2020-02-24T18:00:00</td>\n",
              "      <td>ITA</td>\n",
              "      <td>15</td>\n",
              "      <td>Campania</td>\n",
              "      <td>40.839566</td>\n",
              "      <td>14.250850</td>\n",
              "      <td>0</td>\n",
              "      <td>0</td>\n",
              "      <td>0</td>\n",
              "      <td>0</td>\n",
              "      <td>...</td>\n",
              "      <td>NaN</td>\n",
              "      <td>NaN</td>\n",
              "      <td>NaN</td>\n",
              "      <td>NaN</td>\n",
              "      <td>NaN</td>\n",
              "      <td>NaN</td>\n",
              "      <td>NaN</td>\n",
              "      <td>NaN</td>\n",
              "      <td>NaN</td>\n",
              "      <td>NaN</td>\n",
              "    </tr>\n",
              "    <tr>\n",
              "      <th>4</th>\n",
              "      <td>2020-02-24T18:00:00</td>\n",
              "      <td>ITA</td>\n",
              "      <td>8</td>\n",
              "      <td>Emilia-Romagna</td>\n",
              "      <td>44.494367</td>\n",
              "      <td>11.341721</td>\n",
              "      <td>10</td>\n",
              "      <td>2</td>\n",
              "      <td>12</td>\n",
              "      <td>6</td>\n",
              "      <td>...</td>\n",
              "      <td>NaN</td>\n",
              "      <td>NaN</td>\n",
              "      <td>NaN</td>\n",
              "      <td>NaN</td>\n",
              "      <td>NaN</td>\n",
              "      <td>NaN</td>\n",
              "      <td>NaN</td>\n",
              "      <td>NaN</td>\n",
              "      <td>NaN</td>\n",
              "      <td>NaN</td>\n",
              "    </tr>\n",
              "  </tbody>\n",
              "</table>\n",
              "<p>5 rows × 30 columns</p>\n",
              "</div>\n",
              "      <button class=\"colab-df-convert\" onclick=\"convertToInteractive('df-63502e6d-2fe5-4587-8825-56f1cb43c60b')\"\n",
              "              title=\"Convert this dataframe to an interactive table.\"\n",
              "              style=\"display:none;\">\n",
              "        \n",
              "  <svg xmlns=\"http://www.w3.org/2000/svg\" height=\"24px\"viewBox=\"0 0 24 24\"\n",
              "       width=\"24px\">\n",
              "    <path d=\"M0 0h24v24H0V0z\" fill=\"none\"/>\n",
              "    <path d=\"M18.56 5.44l.94 2.06.94-2.06 2.06-.94-2.06-.94-.94-2.06-.94 2.06-2.06.94zm-11 1L8.5 8.5l.94-2.06 2.06-.94-2.06-.94L8.5 2.5l-.94 2.06-2.06.94zm10 10l.94 2.06.94-2.06 2.06-.94-2.06-.94-.94-2.06-.94 2.06-2.06.94z\"/><path d=\"M17.41 7.96l-1.37-1.37c-.4-.4-.92-.59-1.43-.59-.52 0-1.04.2-1.43.59L10.3 9.45l-7.72 7.72c-.78.78-.78 2.05 0 2.83L4 21.41c.39.39.9.59 1.41.59.51 0 1.02-.2 1.41-.59l7.78-7.78 2.81-2.81c.8-.78.8-2.07 0-2.86zM5.41 20L4 18.59l7.72-7.72 1.47 1.35L5.41 20z\"/>\n",
              "  </svg>\n",
              "      </button>\n",
              "      \n",
              "  <style>\n",
              "    .colab-df-container {\n",
              "      display:flex;\n",
              "      flex-wrap:wrap;\n",
              "      gap: 12px;\n",
              "    }\n",
              "\n",
              "    .colab-df-convert {\n",
              "      background-color: #E8F0FE;\n",
              "      border: none;\n",
              "      border-radius: 50%;\n",
              "      cursor: pointer;\n",
              "      display: none;\n",
              "      fill: #1967D2;\n",
              "      height: 32px;\n",
              "      padding: 0 0 0 0;\n",
              "      width: 32px;\n",
              "    }\n",
              "\n",
              "    .colab-df-convert:hover {\n",
              "      background-color: #E2EBFA;\n",
              "      box-shadow: 0px 1px 2px rgba(60, 64, 67, 0.3), 0px 1px 3px 1px rgba(60, 64, 67, 0.15);\n",
              "      fill: #174EA6;\n",
              "    }\n",
              "\n",
              "    [theme=dark] .colab-df-convert {\n",
              "      background-color: #3B4455;\n",
              "      fill: #D2E3FC;\n",
              "    }\n",
              "\n",
              "    [theme=dark] .colab-df-convert:hover {\n",
              "      background-color: #434B5C;\n",
              "      box-shadow: 0px 1px 3px 1px rgba(0, 0, 0, 0.15);\n",
              "      filter: drop-shadow(0px 1px 2px rgba(0, 0, 0, 0.3));\n",
              "      fill: #FFFFFF;\n",
              "    }\n",
              "  </style>\n",
              "\n",
              "      <script>\n",
              "        const buttonEl =\n",
              "          document.querySelector('#df-63502e6d-2fe5-4587-8825-56f1cb43c60b button.colab-df-convert');\n",
              "        buttonEl.style.display =\n",
              "          google.colab.kernel.accessAllowed ? 'block' : 'none';\n",
              "\n",
              "        async function convertToInteractive(key) {\n",
              "          const element = document.querySelector('#df-63502e6d-2fe5-4587-8825-56f1cb43c60b');\n",
              "          const dataTable =\n",
              "            await google.colab.kernel.invokeFunction('convertToInteractive',\n",
              "                                                     [key], {});\n",
              "          if (!dataTable) return;\n",
              "\n",
              "          const docLinkHtml = 'Like what you see? Visit the ' +\n",
              "            '<a target=\"_blank\" href=https://colab.research.google.com/notebooks/data_table.ipynb>data table notebook</a>'\n",
              "            + ' to learn more about interactive tables.';\n",
              "          element.innerHTML = '';\n",
              "          dataTable['output_type'] = 'display_data';\n",
              "          await google.colab.output.renderOutput(dataTable, element);\n",
              "          const docLink = document.createElement('div');\n",
              "          docLink.innerHTML = docLinkHtml;\n",
              "          element.appendChild(docLink);\n",
              "        }\n",
              "      </script>\n",
              "    </div>\n",
              "  </div>\n",
              "  "
            ]
          },
          "metadata": {},
          "execution_count": 4
        }
      ]
    },
    {
      "cell_type": "code",
      "source": [
        "covid_italy.info()"
      ],
      "metadata": {
        "colab": {
          "base_uri": "https://localhost:8080/"
        },
        "id": "8jIR3hnuTpiN",
        "outputId": "2f23b3c6-d4fc-4dfe-a9e6-0e81a146ac04"
      },
      "execution_count": 5,
      "outputs": [
        {
          "output_type": "stream",
          "name": "stdout",
          "text": [
            "<class 'pandas.core.frame.DataFrame'>\n",
            "RangeIndex: 18921 entries, 0 to 18920\n",
            "Data columns (total 30 columns):\n",
            " #   Column                                  Non-Null Count  Dtype  \n",
            "---  ------                                  --------------  -----  \n",
            " 0   data                                    18921 non-null  object \n",
            " 1   stato                                   18921 non-null  object \n",
            " 2   codice_regione                          18921 non-null  int64  \n",
            " 3   denominazione_regione                   18921 non-null  object \n",
            " 4   lat                                     18921 non-null  float64\n",
            " 5   long                                    18921 non-null  float64\n",
            " 6   ricoverati_con_sintomi                  18921 non-null  int64  \n",
            " 7   terapia_intensiva                       18921 non-null  int64  \n",
            " 8   totale_ospedalizzati                    18921 non-null  int64  \n",
            " 9   isolamento_domiciliare                  18921 non-null  int64  \n",
            " 10  totale_positivi                         18921 non-null  int64  \n",
            " 11  variazione_totale_positivi              18921 non-null  int64  \n",
            " 12  nuovi_positivi                          18921 non-null  int64  \n",
            " 13  dimessi_guariti                         18921 non-null  int64  \n",
            " 14  deceduti                                18921 non-null  int64  \n",
            " 15  casi_da_sospetto_diagnostico            3402 non-null   float64\n",
            " 16  casi_da_screening                       3402 non-null   float64\n",
            " 17  totale_casi                             18921 non-null  int64  \n",
            " 18  tamponi                                 18921 non-null  int64  \n",
            " 19  casi_testati                            17766 non-null  float64\n",
            " 20  note                                    4377 non-null   object \n",
            " 21  ingressi_terapia_intensiva              12978 non-null  float64\n",
            " 22  note_test                               182 non-null    object \n",
            " 23  note_casi                               2176 non-null   object \n",
            " 24  totale_positivi_test_molecolare         12075 non-null  float64\n",
            " 25  totale_positivi_test_antigenico_rapido  12075 non-null  float64\n",
            " 26  tamponi_test_molecolare                 12075 non-null  float64\n",
            " 27  tamponi_test_antigenico_rapido          12075 non-null  float64\n",
            " 28  codice_nuts_1                           12075 non-null  object \n",
            " 29  codice_nuts_2                           12075 non-null  object \n",
            "dtypes: float64(10), int64(12), object(8)\n",
            "memory usage: 4.3+ MB\n"
          ]
        }
      ]
    },
    {
      "cell_type": "code",
      "source": [
        "covid_italy.describe()"
      ],
      "metadata": {
        "colab": {
          "base_uri": "https://localhost:8080/",
          "height": 394
        },
        "id": "Kht2Wgk1T_to",
        "outputId": "72c144f3-2812-4faf-e2b4-218f92d0b04a"
      },
      "execution_count": 6,
      "outputs": [
        {
          "output_type": "execute_result",
          "data": {
            "text/plain": [
              "       codice_regione           lat          long  ricoverati_con_sintomi  \\\n",
              "count    18921.000000  18921.000000  18921.000000            18921.000000   \n",
              "mean        11.857143     43.046293     12.225955              527.916178   \n",
              "std          6.273964      2.488847      2.659018              969.860343   \n",
              "min          1.000000     38.115697      7.320149                0.000000   \n",
              "25%          7.000000     41.125596     11.121231               48.000000   \n",
              "50%         12.000000     43.616760     12.388247              192.000000   \n",
              "75%         17.000000     45.434905     13.768136              577.000000   \n",
              "max         22.000000     46.499335     16.867367            12077.000000   \n",
              "\n",
              "       terapia_intensiva  totale_ospedalizzati  isolamento_domiciliare  \\\n",
              "count       18921.000000          18921.000000            18921.000000   \n",
              "mean           55.164103            583.080281            22883.098673   \n",
              "std           107.510835           1072.465134            45191.416755   \n",
              "min             0.000000              0.000000                0.000000   \n",
              "25%             4.000000             53.000000              967.000000   \n",
              "50%            18.000000            213.000000             5618.000000   \n",
              "75%            54.000000            633.000000            21973.000000   \n",
              "max          1381.000000          13328.000000           574548.000000   \n",
              "\n",
              "       totale_positivi  variazione_totale_positivi  nuovi_positivi  ...  \\\n",
              "count     18921.000000                18921.000000    18921.000000  ...   \n",
              "mean      23466.178637                   48.343481     1118.089636  ...   \n",
              "std       45630.558061                 2225.790166     2634.038636  ...   \n",
              "min           0.000000               -50797.000000     -229.000000  ...   \n",
              "25%        1084.000000                  -77.000000       38.000000  ...   \n",
              "50%        5951.000000                    3.000000      234.000000  ...   \n",
              "75%       22854.000000                  137.000000     1021.000000  ...   \n",
              "max      578257.000000                47483.000000    52693.000000  ...   \n",
              "\n",
              "       casi_da_sospetto_diagnostico  casi_da_screening   totale_casi  \\\n",
              "count                   3402.000000         3402.00000  1.892100e+04   \n",
              "mean                   16472.772193         6319.39565  2.683130e+05   \n",
              "std                    32188.413270        15054.35195  4.626168e+05   \n",
              "min                        0.000000            0.00000  0.000000e+00   \n",
              "25%                     2052.250000          117.00000  1.196300e+04   \n",
              "50%                     5290.500000         1493.00000  7.656300e+04   \n",
              "75%                    19285.750000         5469.00000  3.207800e+05   \n",
              "max                   305002.000000       113150.00000  3.421475e+06   \n",
              "\n",
              "            tamponi  casi_testati  ingressi_terapia_intensiva  \\\n",
              "count  1.892100e+04  1.776600e+04                12978.000000   \n",
              "mean   3.976923e+06  1.371895e+06                    3.813299   \n",
              "std    6.297824e+06  1.699781e+06                    6.459032   \n",
              "min    0.000000e+00  3.482000e+03                   -2.000000   \n",
              "25%    2.789120e+05  2.123948e+05                    0.000000   \n",
              "50%    1.393333e+06  6.881195e+05                    2.000000   \n",
              "75%    4.925881e+06  1.877696e+06                    4.000000   \n",
              "max    4.042305e+07  9.058444e+06                   86.000000   \n",
              "\n",
              "       totale_positivi_test_molecolare  \\\n",
              "count                     1.207500e+04   \n",
              "mean                      2.700818e+05   \n",
              "std                       2.915143e+05   \n",
              "min                       7.382000e+03   \n",
              "25%                       6.158250e+04   \n",
              "50%                       1.619650e+05   \n",
              "75%                       3.951700e+05   \n",
              "max                       1.475499e+06   \n",
              "\n",
              "       totale_positivi_test_antigenico_rapido  tamponi_test_molecolare  \\\n",
              "count                            1.207500e+04             1.207500e+04   \n",
              "mean                             1.352374e+05             3.136720e+06   \n",
              "std                              2.751328e+05             3.195709e+06   \n",
              "min                              0.000000e+00             6.615200e+04   \n",
              "25%                              1.700000e+01             8.289250e+05   \n",
              "50%                              1.233000e+04             1.942523e+06   \n",
              "75%                              1.283060e+05             4.566824e+06   \n",
              "max                              1.945976e+06             1.640578e+07   \n",
              "\n",
              "       tamponi_test_antigenico_rapido  \n",
              "count                    1.207500e+04  \n",
              "mean                     2.835836e+06  \n",
              "std                      4.269993e+06  \n",
              "min                      0.000000e+00  \n",
              "25%                      2.436475e+05  \n",
              "50%                      1.177664e+06  \n",
              "75%                      3.234166e+06  \n",
              "max                      2.401728e+07  \n",
              "\n",
              "[8 rows x 22 columns]"
            ],
            "text/html": [
              "\n",
              "  <div id=\"df-c81d0201-2099-46f2-abc5-6e0e68ae661a\">\n",
              "    <div class=\"colab-df-container\">\n",
              "      <div>\n",
              "<style scoped>\n",
              "    .dataframe tbody tr th:only-of-type {\n",
              "        vertical-align: middle;\n",
              "    }\n",
              "\n",
              "    .dataframe tbody tr th {\n",
              "        vertical-align: top;\n",
              "    }\n",
              "\n",
              "    .dataframe thead th {\n",
              "        text-align: right;\n",
              "    }\n",
              "</style>\n",
              "<table border=\"1\" class=\"dataframe\">\n",
              "  <thead>\n",
              "    <tr style=\"text-align: right;\">\n",
              "      <th></th>\n",
              "      <th>codice_regione</th>\n",
              "      <th>lat</th>\n",
              "      <th>long</th>\n",
              "      <th>ricoverati_con_sintomi</th>\n",
              "      <th>terapia_intensiva</th>\n",
              "      <th>totale_ospedalizzati</th>\n",
              "      <th>isolamento_domiciliare</th>\n",
              "      <th>totale_positivi</th>\n",
              "      <th>variazione_totale_positivi</th>\n",
              "      <th>nuovi_positivi</th>\n",
              "      <th>...</th>\n",
              "      <th>casi_da_sospetto_diagnostico</th>\n",
              "      <th>casi_da_screening</th>\n",
              "      <th>totale_casi</th>\n",
              "      <th>tamponi</th>\n",
              "      <th>casi_testati</th>\n",
              "      <th>ingressi_terapia_intensiva</th>\n",
              "      <th>totale_positivi_test_molecolare</th>\n",
              "      <th>totale_positivi_test_antigenico_rapido</th>\n",
              "      <th>tamponi_test_molecolare</th>\n",
              "      <th>tamponi_test_antigenico_rapido</th>\n",
              "    </tr>\n",
              "  </thead>\n",
              "  <tbody>\n",
              "    <tr>\n",
              "      <th>count</th>\n",
              "      <td>18921.000000</td>\n",
              "      <td>18921.000000</td>\n",
              "      <td>18921.000000</td>\n",
              "      <td>18921.000000</td>\n",
              "      <td>18921.000000</td>\n",
              "      <td>18921.000000</td>\n",
              "      <td>18921.000000</td>\n",
              "      <td>18921.000000</td>\n",
              "      <td>18921.000000</td>\n",
              "      <td>18921.000000</td>\n",
              "      <td>...</td>\n",
              "      <td>3402.000000</td>\n",
              "      <td>3402.00000</td>\n",
              "      <td>1.892100e+04</td>\n",
              "      <td>1.892100e+04</td>\n",
              "      <td>1.776600e+04</td>\n",
              "      <td>12978.000000</td>\n",
              "      <td>1.207500e+04</td>\n",
              "      <td>1.207500e+04</td>\n",
              "      <td>1.207500e+04</td>\n",
              "      <td>1.207500e+04</td>\n",
              "    </tr>\n",
              "    <tr>\n",
              "      <th>mean</th>\n",
              "      <td>11.857143</td>\n",
              "      <td>43.046293</td>\n",
              "      <td>12.225955</td>\n",
              "      <td>527.916178</td>\n",
              "      <td>55.164103</td>\n",
              "      <td>583.080281</td>\n",
              "      <td>22883.098673</td>\n",
              "      <td>23466.178637</td>\n",
              "      <td>48.343481</td>\n",
              "      <td>1118.089636</td>\n",
              "      <td>...</td>\n",
              "      <td>16472.772193</td>\n",
              "      <td>6319.39565</td>\n",
              "      <td>2.683130e+05</td>\n",
              "      <td>3.976923e+06</td>\n",
              "      <td>1.371895e+06</td>\n",
              "      <td>3.813299</td>\n",
              "      <td>2.700818e+05</td>\n",
              "      <td>1.352374e+05</td>\n",
              "      <td>3.136720e+06</td>\n",
              "      <td>2.835836e+06</td>\n",
              "    </tr>\n",
              "    <tr>\n",
              "      <th>std</th>\n",
              "      <td>6.273964</td>\n",
              "      <td>2.488847</td>\n",
              "      <td>2.659018</td>\n",
              "      <td>969.860343</td>\n",
              "      <td>107.510835</td>\n",
              "      <td>1072.465134</td>\n",
              "      <td>45191.416755</td>\n",
              "      <td>45630.558061</td>\n",
              "      <td>2225.790166</td>\n",
              "      <td>2634.038636</td>\n",
              "      <td>...</td>\n",
              "      <td>32188.413270</td>\n",
              "      <td>15054.35195</td>\n",
              "      <td>4.626168e+05</td>\n",
              "      <td>6.297824e+06</td>\n",
              "      <td>1.699781e+06</td>\n",
              "      <td>6.459032</td>\n",
              "      <td>2.915143e+05</td>\n",
              "      <td>2.751328e+05</td>\n",
              "      <td>3.195709e+06</td>\n",
              "      <td>4.269993e+06</td>\n",
              "    </tr>\n",
              "    <tr>\n",
              "      <th>min</th>\n",
              "      <td>1.000000</td>\n",
              "      <td>38.115697</td>\n",
              "      <td>7.320149</td>\n",
              "      <td>0.000000</td>\n",
              "      <td>0.000000</td>\n",
              "      <td>0.000000</td>\n",
              "      <td>0.000000</td>\n",
              "      <td>0.000000</td>\n",
              "      <td>-50797.000000</td>\n",
              "      <td>-229.000000</td>\n",
              "      <td>...</td>\n",
              "      <td>0.000000</td>\n",
              "      <td>0.00000</td>\n",
              "      <td>0.000000e+00</td>\n",
              "      <td>0.000000e+00</td>\n",
              "      <td>3.482000e+03</td>\n",
              "      <td>-2.000000</td>\n",
              "      <td>7.382000e+03</td>\n",
              "      <td>0.000000e+00</td>\n",
              "      <td>6.615200e+04</td>\n",
              "      <td>0.000000e+00</td>\n",
              "    </tr>\n",
              "    <tr>\n",
              "      <th>25%</th>\n",
              "      <td>7.000000</td>\n",
              "      <td>41.125596</td>\n",
              "      <td>11.121231</td>\n",
              "      <td>48.000000</td>\n",
              "      <td>4.000000</td>\n",
              "      <td>53.000000</td>\n",
              "      <td>967.000000</td>\n",
              "      <td>1084.000000</td>\n",
              "      <td>-77.000000</td>\n",
              "      <td>38.000000</td>\n",
              "      <td>...</td>\n",
              "      <td>2052.250000</td>\n",
              "      <td>117.00000</td>\n",
              "      <td>1.196300e+04</td>\n",
              "      <td>2.789120e+05</td>\n",
              "      <td>2.123948e+05</td>\n",
              "      <td>0.000000</td>\n",
              "      <td>6.158250e+04</td>\n",
              "      <td>1.700000e+01</td>\n",
              "      <td>8.289250e+05</td>\n",
              "      <td>2.436475e+05</td>\n",
              "    </tr>\n",
              "    <tr>\n",
              "      <th>50%</th>\n",
              "      <td>12.000000</td>\n",
              "      <td>43.616760</td>\n",
              "      <td>12.388247</td>\n",
              "      <td>192.000000</td>\n",
              "      <td>18.000000</td>\n",
              "      <td>213.000000</td>\n",
              "      <td>5618.000000</td>\n",
              "      <td>5951.000000</td>\n",
              "      <td>3.000000</td>\n",
              "      <td>234.000000</td>\n",
              "      <td>...</td>\n",
              "      <td>5290.500000</td>\n",
              "      <td>1493.00000</td>\n",
              "      <td>7.656300e+04</td>\n",
              "      <td>1.393333e+06</td>\n",
              "      <td>6.881195e+05</td>\n",
              "      <td>2.000000</td>\n",
              "      <td>1.619650e+05</td>\n",
              "      <td>1.233000e+04</td>\n",
              "      <td>1.942523e+06</td>\n",
              "      <td>1.177664e+06</td>\n",
              "    </tr>\n",
              "    <tr>\n",
              "      <th>75%</th>\n",
              "      <td>17.000000</td>\n",
              "      <td>45.434905</td>\n",
              "      <td>13.768136</td>\n",
              "      <td>577.000000</td>\n",
              "      <td>54.000000</td>\n",
              "      <td>633.000000</td>\n",
              "      <td>21973.000000</td>\n",
              "      <td>22854.000000</td>\n",
              "      <td>137.000000</td>\n",
              "      <td>1021.000000</td>\n",
              "      <td>...</td>\n",
              "      <td>19285.750000</td>\n",
              "      <td>5469.00000</td>\n",
              "      <td>3.207800e+05</td>\n",
              "      <td>4.925881e+06</td>\n",
              "      <td>1.877696e+06</td>\n",
              "      <td>4.000000</td>\n",
              "      <td>3.951700e+05</td>\n",
              "      <td>1.283060e+05</td>\n",
              "      <td>4.566824e+06</td>\n",
              "      <td>3.234166e+06</td>\n",
              "    </tr>\n",
              "    <tr>\n",
              "      <th>max</th>\n",
              "      <td>22.000000</td>\n",
              "      <td>46.499335</td>\n",
              "      <td>16.867367</td>\n",
              "      <td>12077.000000</td>\n",
              "      <td>1381.000000</td>\n",
              "      <td>13328.000000</td>\n",
              "      <td>574548.000000</td>\n",
              "      <td>578257.000000</td>\n",
              "      <td>47483.000000</td>\n",
              "      <td>52693.000000</td>\n",
              "      <td>...</td>\n",
              "      <td>305002.000000</td>\n",
              "      <td>113150.00000</td>\n",
              "      <td>3.421475e+06</td>\n",
              "      <td>4.042305e+07</td>\n",
              "      <td>9.058444e+06</td>\n",
              "      <td>86.000000</td>\n",
              "      <td>1.475499e+06</td>\n",
              "      <td>1.945976e+06</td>\n",
              "      <td>1.640578e+07</td>\n",
              "      <td>2.401728e+07</td>\n",
              "    </tr>\n",
              "  </tbody>\n",
              "</table>\n",
              "<p>8 rows × 22 columns</p>\n",
              "</div>\n",
              "      <button class=\"colab-df-convert\" onclick=\"convertToInteractive('df-c81d0201-2099-46f2-abc5-6e0e68ae661a')\"\n",
              "              title=\"Convert this dataframe to an interactive table.\"\n",
              "              style=\"display:none;\">\n",
              "        \n",
              "  <svg xmlns=\"http://www.w3.org/2000/svg\" height=\"24px\"viewBox=\"0 0 24 24\"\n",
              "       width=\"24px\">\n",
              "    <path d=\"M0 0h24v24H0V0z\" fill=\"none\"/>\n",
              "    <path d=\"M18.56 5.44l.94 2.06.94-2.06 2.06-.94-2.06-.94-.94-2.06-.94 2.06-2.06.94zm-11 1L8.5 8.5l.94-2.06 2.06-.94-2.06-.94L8.5 2.5l-.94 2.06-2.06.94zm10 10l.94 2.06.94-2.06 2.06-.94-2.06-.94-.94-2.06-.94 2.06-2.06.94z\"/><path d=\"M17.41 7.96l-1.37-1.37c-.4-.4-.92-.59-1.43-.59-.52 0-1.04.2-1.43.59L10.3 9.45l-7.72 7.72c-.78.78-.78 2.05 0 2.83L4 21.41c.39.39.9.59 1.41.59.51 0 1.02-.2 1.41-.59l7.78-7.78 2.81-2.81c.8-.78.8-2.07 0-2.86zM5.41 20L4 18.59l7.72-7.72 1.47 1.35L5.41 20z\"/>\n",
              "  </svg>\n",
              "      </button>\n",
              "      \n",
              "  <style>\n",
              "    .colab-df-container {\n",
              "      display:flex;\n",
              "      flex-wrap:wrap;\n",
              "      gap: 12px;\n",
              "    }\n",
              "\n",
              "    .colab-df-convert {\n",
              "      background-color: #E8F0FE;\n",
              "      border: none;\n",
              "      border-radius: 50%;\n",
              "      cursor: pointer;\n",
              "      display: none;\n",
              "      fill: #1967D2;\n",
              "      height: 32px;\n",
              "      padding: 0 0 0 0;\n",
              "      width: 32px;\n",
              "    }\n",
              "\n",
              "    .colab-df-convert:hover {\n",
              "      background-color: #E2EBFA;\n",
              "      box-shadow: 0px 1px 2px rgba(60, 64, 67, 0.3), 0px 1px 3px 1px rgba(60, 64, 67, 0.15);\n",
              "      fill: #174EA6;\n",
              "    }\n",
              "\n",
              "    [theme=dark] .colab-df-convert {\n",
              "      background-color: #3B4455;\n",
              "      fill: #D2E3FC;\n",
              "    }\n",
              "\n",
              "    [theme=dark] .colab-df-convert:hover {\n",
              "      background-color: #434B5C;\n",
              "      box-shadow: 0px 1px 3px 1px rgba(0, 0, 0, 0.15);\n",
              "      filter: drop-shadow(0px 1px 2px rgba(0, 0, 0, 0.3));\n",
              "      fill: #FFFFFF;\n",
              "    }\n",
              "  </style>\n",
              "\n",
              "      <script>\n",
              "        const buttonEl =\n",
              "          document.querySelector('#df-c81d0201-2099-46f2-abc5-6e0e68ae661a button.colab-df-convert');\n",
              "        buttonEl.style.display =\n",
              "          google.colab.kernel.accessAllowed ? 'block' : 'none';\n",
              "\n",
              "        async function convertToInteractive(key) {\n",
              "          const element = document.querySelector('#df-c81d0201-2099-46f2-abc5-6e0e68ae661a');\n",
              "          const dataTable =\n",
              "            await google.colab.kernel.invokeFunction('convertToInteractive',\n",
              "                                                     [key], {});\n",
              "          if (!dataTable) return;\n",
              "\n",
              "          const docLinkHtml = 'Like what you see? Visit the ' +\n",
              "            '<a target=\"_blank\" href=https://colab.research.google.com/notebooks/data_table.ipynb>data table notebook</a>'\n",
              "            + ' to learn more about interactive tables.';\n",
              "          element.innerHTML = '';\n",
              "          dataTable['output_type'] = 'display_data';\n",
              "          await google.colab.output.renderOutput(dataTable, element);\n",
              "          const docLink = document.createElement('div');\n",
              "          docLink.innerHTML = docLinkHtml;\n",
              "          element.appendChild(docLink);\n",
              "        }\n",
              "      </script>\n",
              "    </div>\n",
              "  </div>\n",
              "  "
            ]
          },
          "metadata": {},
          "execution_count": 6
        }
      ]
    },
    {
      "cell_type": "code",
      "source": [
        "import missingno as msno\n",
        "msno.matrix(covid_italy);"
      ],
      "metadata": {
        "colab": {
          "base_uri": "https://localhost:8080/",
          "height": 819
        },
        "id": "pqCSruCqQ16h",
        "outputId": "93182369-d1f9-487f-f5d8-ad986ef194d4"
      },
      "execution_count": 7,
      "outputs": [
        {
          "output_type": "display_data",
          "data": {
            "text/plain": [
              "<Figure size 1800x720 with 2 Axes>"
            ],
            "image/png": "[encoded data removed]"
          },
          "metadata": {
            "needs_background": "light"
          }
        }
      ]
    },
    {
      "cell_type": "markdown",
      "source": [
        "Видим, что данных мало в записях, а также в скрининге, они странным образом распределенны, тесты tamponi появляются позже"
      ],
      "metadata": {
        "id": "nSQpSFNwZDQI"
      }
    },
    {
      "cell_type": "code",
      "source": [
        "print(covid_italy.columns)"
      ],
      "metadata": {
        "colab": {
          "base_uri": "https://localhost:8080/"
        },
        "id": "GilwWdq0VJiF",
        "outputId": "c897642a-873f-4f39-d33d-7538888bfe92"
      },
      "execution_count": 8,
      "outputs": [
        {
          "output_type": "stream",
          "name": "stdout",
          "text": [
            "Index(['data', 'stato', 'codice_regione', 'denominazione_regione', 'lat',\n",
            "       'long', 'ricoverati_con_sintomi', 'terapia_intensiva',\n",
            "       'totale_ospedalizzati', 'isolamento_domiciliare', 'totale_positivi',\n",
            "       'variazione_totale_positivi', 'nuovi_positivi', 'dimessi_guariti',\n",
            "       'deceduti', 'casi_da_sospetto_diagnostico', 'casi_da_screening',\n",
            "       'totale_casi', 'tamponi', 'casi_testati', 'note',\n",
            "       'ingressi_terapia_intensiva', 'note_test', 'note_casi',\n",
            "       'totale_positivi_test_molecolare',\n",
            "       'totale_positivi_test_antigenico_rapido', 'tamponi_test_molecolare',\n",
            "       'tamponi_test_antigenico_rapido', 'codice_nuts_1', 'codice_nuts_2'],\n",
            "      dtype='object')\n"
          ]
        }
      ]
    },
    {
      "cell_type": "markdown",
      "source": [
        "Примерная расшифровка\n",
        "\n",
        "'дата', 'data'\n",
        "\n",
        "'состояние',  'stato'\n",
        "\n",
        "'код_региона',  'codice_regione'\n",
        "\n",
        "'именование региона',  'denominazione regione'\n",
        "\n",
        "'широта',  'lat'\n",
        "\n",
        "\"долго\",  'long'\n",
        "\n",
        "\"госпитализированы с симптомами\", 'ricoverati con sintomi'\n",
        "\n",
        "\"реанимация\",  'terapia intensiva'\n",
        "\n",
        "всего госпитализированных',  'totale ospedalizzati'\n",
        "\n",
        "'изоляции на дому',  'isolamento domiciliare'\n",
        "\n",
        "'итого положительные', 'totale positivi'\n",
        "\n",
        "\"общее изменение положительных результатов\",  'variazione totale positivi'\n",
        "\n",
        "\"новые положительные результаты\", 'nuovi positivi'\n",
        "\n",
        "\"выписанные выздоровели\",  'dimessi guariti'\n",
        "\n",
        "'умерших',  'deceduti'\n",
        "\n",
        "'casi_da диагностики подозрение',  'casi_da sospetto diagnostico'\n",
        "\n",
        "'случаев от скрининга,  'casi da screening'\n",
        "\n",
        "'все кейсы',  'totale_casi'\n",
        "\n",
        "'тампоны', 'tamponi'\n",
        "\n",
        "'проверенные случаи', 'casi testati'\n",
        "\n",
        "'Примечания', 'note'\n",
        "\n",
        "\"входы в реанимацию\", 'ingressi terapia intensiva'\n",
        "\n",
        "\"заметки о тестах\", 'note test'\n",
        "\n",
        "\"заметки о случаях\", 'note casi'\n",
        "\n",
        "\"общий положительный молекулярный тест\",  'totale positivi test molecolare'\n",
        "\n",
        "\"\"общий положительный тест на антиген_быстрый\", ''totale positive test antigenico_rapido'\n",
        "\n",
        "\"молекулярный тест на тампоны\",  'tamponi test molecolare'\n",
        "\n",
        "\"быстрый тест на антиген тампоны\", ''tamponi test antigenico rapido'\n",
        "\"орехи код 1\",  'codice nuts 1'"
      ],
      "metadata": {
        "id": "9qQX8SFjWWmD"
      }
    },
    {
      "cell_type": "markdown",
      "source": [
        "2. В полученном файле необходимо найти данные по выявленным случаям COVID-19 и умершим от COVID-19 для Ломбардии (область Италии)\n",
        "\n",
        "---\n",
        "\n",
        "\n",
        "\n",
        "\n",
        "Область - \n",
        "denominazione_regione\n",
        "\n",
        "Выявленные случаи - \n",
        "я предполагаю, что это total_positive\n",
        "\n",
        "Умершие - \n",
        " 'deceduti'\n"
      ],
      "metadata": {
        "id": "5qLUdTJsURVw"
      }
    },
    {
      "cell_type": "markdown",
      "source": [
        "Ищу тот регион, который нам подходит\n",
        "'Lombardia'"
      ],
      "metadata": {
        "id": "_XK-9kNiYsBx"
      }
    },
    {
      "cell_type": "code",
      "source": [
        "print(covid_italy['denominazione_regione'].unique())"
      ],
      "metadata": {
        "colab": {
          "base_uri": "https://localhost:8080/"
        },
        "id": "QvfQQPBVTe65",
        "outputId": "fbbbbb5f-5f3c-4ef5-cc11-f207ada4ac3d"
      },
      "execution_count": 9,
      "outputs": [
        {
          "output_type": "stream",
          "name": "stdout",
          "text": [
            "['Abruzzo' 'Basilicata' 'Calabria' 'Campania' 'Emilia-Romagna'\n",
            " 'Friuli Venezia Giulia' 'Lazio' 'Liguria' 'Lombardia' 'Marche' 'Molise'\n",
            " 'P.A. Bolzano' 'P.A. Trento' 'Piemonte' 'Puglia' 'Sardegna' 'Sicilia'\n",
            " 'Toscana' 'Umbria' \"Valle d'Aosta\" 'Veneto']\n"
          ]
        }
      ]
    },
    {
      "cell_type": "markdown",
      "source": [
        "Здесь я считаю запрос умерших по Ломбардии суммируя значения по столбцу deceduti\n",
        "\n",
        "Я получаю число - 41 708 чел\n",
        "\n",
        "Положительных случаев - 578 257 чел\n",
        "\n",
        "Видимо в датафрейме при добавлении умершего возникает каждая новая строчка, я сначала попытался суммировать, вышло больше чем попуялция))\n",
        "\n",
        "Популяция ломбардии - 10,06 млн"
      ],
      "metadata": {
        "id": "yBsTzJJ_dGmw"
      }
    },
    {
      "cell_type": "code",
      "source": [
        "covid_italy.query('denominazione_regione == \"Lombardia\"')\\\n",
        "        .deceduti\\\n",
        "        .max()"
      ],
      "metadata": {
        "colab": {
          "base_uri": "https://localhost:8080/"
        },
        "id": "FuYx5hQwYm_C",
        "outputId": "666a49a2-f156-4f43-9a30-44cfb5776ff6"
      },
      "execution_count": 10,
      "outputs": [
        {
          "output_type": "execute_result",
          "data": {
            "text/plain": [
              "41919"
            ]
          },
          "metadata": {},
          "execution_count": 10
        }
      ]
    },
    {
      "cell_type": "code",
      "source": [
        "covid_italy.query('denominazione_regione == \"Lombardia\"')\\\n",
        "        .totale_positivi\\\n",
        "        .max()\n"
      ],
      "metadata": {
        "colab": {
          "base_uri": "https://localhost:8080/"
        },
        "id": "8EYVHckDfH6L",
        "outputId": "bae5f6b1-38d3-44dc-c538-02f5f2ecc415"
      },
      "execution_count": 56,
      "outputs": [
        {
          "output_type": "execute_result",
          "data": {
            "text/plain": [
              "578257"
            ]
          },
          "metadata": {},
          "execution_count": 56
        }
      ]
    },
    {
      "cell_type": "markdown",
      "source": [
        "3. Для полученных данных рассчитать ежедневное количество выявленных\n",
        "случаев и умерших на 1 млн населения. \n",
        "\n",
        "Население указать в отдельной ячейке\n",
        "со ссылкой на источник. Расчетные данные представить в виде таблицы\n"
      ],
      "metadata": {
        "id": "dPZhtFt8gsor"
      }
    },
    {
      "cell_type": "markdown",
      "source": [
        "\n",
        "Датафрейм начинается с 2020-02-24 по 2022-08-05"
      ],
      "metadata": {
        "id": "fPmbZlcViuOB"
      }
    },
    {
      "cell_type": "code",
      "source": [
        "print(len(pd.to_datetime(covid_italy['data']).dt.date.unique()))"
      ],
      "metadata": {
        "colab": {
          "base_uri": "https://localhost:8080/"
        },
        "id": "_Lz3sdnqjTfe",
        "outputId": "83f1a7c8-4c1e-4d24-bccb-c01a3409c023"
      },
      "execution_count": 12,
      "outputs": [
        {
          "output_type": "stream",
          "name": "stdout",
          "text": [
            "901\n"
          ]
        }
      ]
    },
    {
      "cell_type": "markdown",
      "source": [
        "Таким образом я получил 894 дня "
      ],
      "metadata": {
        "id": "UkO4mA6rlPC0"
      }
    },
    {
      "cell_type": "code",
      "source": [
        "death = 41708/894"
      ],
      "metadata": {
        "id": "vClqmiGplLUO"
      },
      "execution_count": 13,
      "outputs": []
    },
    {
      "cell_type": "code",
      "source": [
        "positive = 578257/894"
      ],
      "metadata": {
        "id": "FGYPOXrIm2h0"
      },
      "execution_count": 14,
      "outputs": []
    },
    {
      "cell_type": "markdown",
      "source": [
        ""
      ],
      "metadata": {
        "id": "JFQOuJN1lbC9"
      }
    },
    {
      "cell_type": "code",
      "source": [
        "data = {'death_mean': [death], 'positive': [positive]}"
      ],
      "metadata": {
        "id": "sAk4slZqlXq9"
      },
      "execution_count": 15,
      "outputs": []
    },
    {
      "cell_type": "code",
      "source": [
        "df = pd.DataFrame(data)"
      ],
      "metadata": {
        "id": "haPQBJKUnW9_"
      },
      "execution_count": 16,
      "outputs": []
    },
    {
      "cell_type": "code",
      "source": [
        "df"
      ],
      "metadata": {
        "colab": {
          "base_uri": "https://localhost:8080/",
          "height": 81
        },
        "id": "0LpGA2jvnTtp",
        "outputId": "8365e826-6c5d-4aaa-9dae-f634f236dfd7"
      },
      "execution_count": 17,
      "outputs": [
        {
          "output_type": "execute_result",
          "data": {
            "text/plain": [
              "   death_mean    positive\n",
              "0   46.653244  646.819911"
            ],
            "text/html": [
              "\n",
              "  <div id=\"df-899fe4ff-4972-4041-9cbd-10de94f82331\">\n",
              "    <div class=\"colab-df-container\">\n",
              "      <div>\n",
              "<style scoped>\n",
              "    .dataframe tbody tr th:only-of-type {\n",
              "        vertical-align: middle;\n",
              "    }\n",
              "\n",
              "    .dataframe tbody tr th {\n",
              "        vertical-align: top;\n",
              "    }\n",
              "\n",
              "    .dataframe thead th {\n",
              "        text-align: right;\n",
              "    }\n",
              "</style>\n",
              "<table border=\"1\" class=\"dataframe\">\n",
              "  <thead>\n",
              "    <tr style=\"text-align: right;\">\n",
              "      <th></th>\n",
              "      <th>death_mean</th>\n",
              "      <th>positive</th>\n",
              "    </tr>\n",
              "  </thead>\n",
              "  <tbody>\n",
              "    <tr>\n",
              "      <th>0</th>\n",
              "      <td>46.653244</td>\n",
              "      <td>646.819911</td>\n",
              "    </tr>\n",
              "  </tbody>\n",
              "</table>\n",
              "</div>\n",
              "      <button class=\"colab-df-convert\" onclick=\"convertToInteractive('df-899fe4ff-4972-4041-9cbd-10de94f82331')\"\n",
              "              title=\"Convert this dataframe to an interactive table.\"\n",
              "              style=\"display:none;\">\n",
              "        \n",
              "  <svg xmlns=\"http://www.w3.org/2000/svg\" height=\"24px\"viewBox=\"0 0 24 24\"\n",
              "       width=\"24px\">\n",
              "    <path d=\"M0 0h24v24H0V0z\" fill=\"none\"/>\n",
              "    <path d=\"M18.56 5.44l.94 2.06.94-2.06 2.06-.94-2.06-.94-.94-2.06-.94 2.06-2.06.94zm-11 1L8.5 8.5l.94-2.06 2.06-.94-2.06-.94L8.5 2.5l-.94 2.06-2.06.94zm10 10l.94 2.06.94-2.06 2.06-.94-2.06-.94-.94-2.06-.94 2.06-2.06.94z\"/><path d=\"M17.41 7.96l-1.37-1.37c-.4-.4-.92-.59-1.43-.59-.52 0-1.04.2-1.43.59L10.3 9.45l-7.72 7.72c-.78.78-.78 2.05 0 2.83L4 21.41c.39.39.9.59 1.41.59.51 0 1.02-.2 1.41-.59l7.78-7.78 2.81-2.81c.8-.78.8-2.07 0-2.86zM5.41 20L4 18.59l7.72-7.72 1.47 1.35L5.41 20z\"/>\n",
              "  </svg>\n",
              "      </button>\n",
              "      \n",
              "  <style>\n",
              "    .colab-df-container {\n",
              "      display:flex;\n",
              "      flex-wrap:wrap;\n",
              "      gap: 12px;\n",
              "    }\n",
              "\n",
              "    .colab-df-convert {\n",
              "      background-color: #E8F0FE;\n",
              "      border: none;\n",
              "      border-radius: 50%;\n",
              "      cursor: pointer;\n",
              "      display: none;\n",
              "      fill: #1967D2;\n",
              "      height: 32px;\n",
              "      padding: 0 0 0 0;\n",
              "      width: 32px;\n",
              "    }\n",
              "\n",
              "    .colab-df-convert:hover {\n",
              "      background-color: #E2EBFA;\n",
              "      box-shadow: 0px 1px 2px rgba(60, 64, 67, 0.3), 0px 1px 3px 1px rgba(60, 64, 67, 0.15);\n",
              "      fill: #174EA6;\n",
              "    }\n",
              "\n",
              "    [theme=dark] .colab-df-convert {\n",
              "      background-color: #3B4455;\n",
              "      fill: #D2E3FC;\n",
              "    }\n",
              "\n",
              "    [theme=dark] .colab-df-convert:hover {\n",
              "      background-color: #434B5C;\n",
              "      box-shadow: 0px 1px 3px 1px rgba(0, 0, 0, 0.15);\n",
              "      filter: drop-shadow(0px 1px 2px rgba(0, 0, 0, 0.3));\n",
              "      fill: #FFFFFF;\n",
              "    }\n",
              "  </style>\n",
              "\n",
              "      <script>\n",
              "        const buttonEl =\n",
              "          document.querySelector('#df-899fe4ff-4972-4041-9cbd-10de94f82331 button.colab-df-convert');\n",
              "        buttonEl.style.display =\n",
              "          google.colab.kernel.accessAllowed ? 'block' : 'none';\n",
              "\n",
              "        async function convertToInteractive(key) {\n",
              "          const element = document.querySelector('#df-899fe4ff-4972-4041-9cbd-10de94f82331');\n",
              "          const dataTable =\n",
              "            await google.colab.kernel.invokeFunction('convertToInteractive',\n",
              "                                                     [key], {});\n",
              "          if (!dataTable) return;\n",
              "\n",
              "          const docLinkHtml = 'Like what you see? Visit the ' +\n",
              "            '<a target=\"_blank\" href=https://colab.research.google.com/notebooks/data_table.ipynb>data table notebook</a>'\n",
              "            + ' to learn more about interactive tables.';\n",
              "          element.innerHTML = '';\n",
              "          dataTable['output_type'] = 'display_data';\n",
              "          await google.colab.output.renderOutput(dataTable, element);\n",
              "          const docLink = document.createElement('div');\n",
              "          docLink.innerHTML = docLinkHtml;\n",
              "          element.appendChild(docLink);\n",
              "        }\n",
              "      </script>\n",
              "    </div>\n",
              "  </div>\n",
              "  "
            ]
          },
          "metadata": {},
          "execution_count": 17
        }
      ]
    },
    {
      "cell_type": "markdown",
      "source": [
        "Ядумаю, то этот ответ правильный, но мне хотелось бы подробнее это разобрать, так как я не понимаю, какую ссылку здесь запрашивают и как вычислить это на 1 млн. населения"
      ],
      "metadata": {
        "id": "vWPspIaInwvh"
      }
    },
    {
      "cell_type": "markdown",
      "source": [
        "4. Также необходимо построить два графика: \n",
        "\n",
        "a. график, показывающий ежедневное количество выявленных случаев COVID-19, рассчитанных на 1 млн населения \n",
        "\n",
        "b. график, показывающий ежедневное количество умерших от COVID-19, рассчитанных на 1 млн населения"
      ],
      "metadata": {
        "id": "44oM35yPoP60"
      }
    },
    {
      "cell_type": "code",
      "source": [
        "import matplotlib.dates\n",
        "from datetime import datetime\n",
        "import matplotlib.dates as mdates"
      ],
      "metadata": {
        "id": "ol_s6puJr3Gk"
      },
      "execution_count": 26,
      "outputs": []
    },
    {
      "cell_type": "code",
      "source": [
        "covid_italy['year'] = pd.to_datetime(covid_italy['data']).dt.year # we store the year in a separate column\n",
        "covid_italy['month'] = pd.to_datetime(covid_italy['data']).dt.month # we store the year in a separate column"
      ],
      "metadata": {
        "id": "9bCLNBW5ueI9"
      },
      "execution_count": 39,
      "outputs": []
    },
    {
      "cell_type": "code",
      "source": [
        "covid_italy[\"date\"] = pd.to_datetime(covid_italy[\"data\"])"
      ],
      "metadata": {
        "id": "iWCEmIF3wPs6"
      },
      "execution_count": 45,
      "outputs": []
    },
    {
      "cell_type": "code",
      "source": [
        "date = covid_italy[\"date\"]"
      ],
      "metadata": {
        "id": "HdHwPM5Nwlwd"
      },
      "execution_count": 48,
      "outputs": []
    },
    {
      "cell_type": "code",
      "source": [
        "covid_italy.head()"
      ],
      "metadata": {
        "colab": {
          "base_uri": "https://localhost:8080/",
          "height": 473
        },
        "id": "OQrkJKFouzdK",
        "outputId": "67b1c6e7-589b-405a-b211-39b8338601ad"
      },
      "execution_count": 46,
      "outputs": [
        {
          "output_type": "execute_result",
          "data": {
            "text/plain": [
              "                  data stato  codice_regione denominazione_regione        lat  \\\n",
              "0  2020-02-24T18:00:00   ITA              13               Abruzzo  42.351222   \n",
              "1  2020-02-24T18:00:00   ITA              17            Basilicata  40.639471   \n",
              "2  2020-02-24T18:00:00   ITA              18              Calabria  38.905976   \n",
              "3  2020-02-24T18:00:00   ITA              15              Campania  40.839566   \n",
              "4  2020-02-24T18:00:00   ITA               8        Emilia-Romagna  44.494367   \n",
              "\n",
              "        long  ricoverati_con_sintomi  terapia_intensiva  totale_ospedalizzati  \\\n",
              "0  13.398438                       0                  0                     0   \n",
              "1  15.805148                       0                  0                     0   \n",
              "2  16.594402                       0                  0                     0   \n",
              "3  14.250850                       0                  0                     0   \n",
              "4  11.341721                      10                  2                    12   \n",
              "\n",
              "   isolamento_domiciliare  ...  note_casi  totale_positivi_test_molecolare  \\\n",
              "0                       0  ...        NaN                              NaN   \n",
              "1                       0  ...        NaN                              NaN   \n",
              "2                       0  ...        NaN                              NaN   \n",
              "3                       0  ...        NaN                              NaN   \n",
              "4                       6  ...        NaN                              NaN   \n",
              "\n",
              "   totale_positivi_test_antigenico_rapido  tamponi_test_molecolare  \\\n",
              "0                                     NaN                      NaN   \n",
              "1                                     NaN                      NaN   \n",
              "2                                     NaN                      NaN   \n",
              "3                                     NaN                      NaN   \n",
              "4                                     NaN                      NaN   \n",
              "\n",
              "   tamponi_test_antigenico_rapido  codice_nuts_1  codice_nuts_2  year  month  \\\n",
              "0                             NaN            NaN            NaN  2020      2   \n",
              "1                             NaN            NaN            NaN  2020      2   \n",
              "2                             NaN            NaN            NaN  2020      2   \n",
              "3                             NaN            NaN            NaN  2020      2   \n",
              "4                             NaN            NaN            NaN  2020      2   \n",
              "\n",
              "                 date  \n",
              "0 2020-02-24 18:00:00  \n",
              "1 2020-02-24 18:00:00  \n",
              "2 2020-02-24 18:00:00  \n",
              "3 2020-02-24 18:00:00  \n",
              "4 2020-02-24 18:00:00  \n",
              "\n",
              "[5 rows x 33 columns]"
            ],
            "text/html": [
              "\n",
              "  <div id=\"df-a9856770-918d-4d78-b935-034927f4b0dc\">\n",
              "    <div class=\"colab-df-container\">\n",
              "      <div>\n",
              "<style scoped>\n",
              "    .dataframe tbody tr th:only-of-type {\n",
              "        vertical-align: middle;\n",
              "    }\n",
              "\n",
              "    .dataframe tbody tr th {\n",
              "        vertical-align: top;\n",
              "    }\n",
              "\n",
              "    .dataframe thead th {\n",
              "        text-align: right;\n",
              "    }\n",
              "</style>\n",
              "<table border=\"1\" class=\"dataframe\">\n",
              "  <thead>\n",
              "    <tr style=\"text-align: right;\">\n",
              "      <th></th>\n",
              "      <th>data</th>\n",
              "      <th>stato</th>\n",
              "      <th>codice_regione</th>\n",
              "      <th>denominazione_regione</th>\n",
              "      <th>lat</th>\n",
              "      <th>long</th>\n",
              "      <th>ricoverati_con_sintomi</th>\n",
              "      <th>terapia_intensiva</th>\n",
              "      <th>totale_ospedalizzati</th>\n",
              "      <th>isolamento_domiciliare</th>\n",
              "      <th>...</th>\n",
              "      <th>note_casi</th>\n",
              "      <th>totale_positivi_test_molecolare</th>\n",
              "      <th>totale_positivi_test_antigenico_rapido</th>\n",
              "      <th>tamponi_test_molecolare</th>\n",
              "      <th>tamponi_test_antigenico_rapido</th>\n",
              "      <th>codice_nuts_1</th>\n",
              "      <th>codice_nuts_2</th>\n",
              "      <th>year</th>\n",
              "      <th>month</th>\n",
              "      <th>date</th>\n",
              "    </tr>\n",
              "  </thead>\n",
              "  <tbody>\n",
              "    <tr>\n",
              "      <th>0</th>\n",
              "      <td>2020-02-24T18:00:00</td>\n",
              "      <td>ITA</td>\n",
              "      <td>13</td>\n",
              "      <td>Abruzzo</td>\n",
              "      <td>42.351222</td>\n",
              "      <td>13.398438</td>\n",
              "      <td>0</td>\n",
              "      <td>0</td>\n",
              "      <td>0</td>\n",
              "      <td>0</td>\n",
              "      <td>...</td>\n",
              "      <td>NaN</td>\n",
              "      <td>NaN</td>\n",
              "      <td>NaN</td>\n",
              "      <td>NaN</td>\n",
              "      <td>NaN</td>\n",
              "      <td>NaN</td>\n",
              "      <td>NaN</td>\n",
              "      <td>2020</td>\n",
              "      <td>2</td>\n",
              "      <td>2020-02-24 18:00:00</td>\n",
              "    </tr>\n",
              "    <tr>\n",
              "      <th>1</th>\n",
              "      <td>2020-02-24T18:00:00</td>\n",
              "      <td>ITA</td>\n",
              "      <td>17</td>\n",
              "      <td>Basilicata</td>\n",
              "      <td>40.639471</td>\n",
              "      <td>15.805148</td>\n",
              "      <td>0</td>\n",
              "      <td>0</td>\n",
              "      <td>0</td>\n",
              "      <td>0</td>\n",
              "      <td>...</td>\n",
              "      <td>NaN</td>\n",
              "      <td>NaN</td>\n",
              "      <td>NaN</td>\n",
              "      <td>NaN</td>\n",
              "      <td>NaN</td>\n",
              "      <td>NaN</td>\n",
              "      <td>NaN</td>\n",
              "      <td>2020</td>\n",
              "      <td>2</td>\n",
              "      <td>2020-02-24 18:00:00</td>\n",
              "    </tr>\n",
              "    <tr>\n",
              "      <th>2</th>\n",
              "      <td>2020-02-24T18:00:00</td>\n",
              "      <td>ITA</td>\n",
              "      <td>18</td>\n",
              "      <td>Calabria</td>\n",
              "      <td>38.905976</td>\n",
              "      <td>16.594402</td>\n",
              "      <td>0</td>\n",
              "      <td>0</td>\n",
              "      <td>0</td>\n",
              "      <td>0</td>\n",
              "      <td>...</td>\n",
              "      <td>NaN</td>\n",
              "      <td>NaN</td>\n",
              "      <td>NaN</td>\n",
              "      <td>NaN</td>\n",
              "      <td>NaN</td>\n",
              "      <td>NaN</td>\n",
              "      <td>NaN</td>\n",
              "      <td>2020</td>\n",
              "      <td>2</td>\n",
              "      <td>2020-02-24 18:00:00</td>\n",
              "    </tr>\n",
              "    <tr>\n",
              "      <th>3</th>\n",
              "      <td>2020-02-24T18:00:00</td>\n",
              "      <td>ITA</td>\n",
              "      <td>15</td>\n",
              "      <td>Campania</td>\n",
              "      <td>40.839566</td>\n",
              "      <td>14.250850</td>\n",
              "      <td>0</td>\n",
              "      <td>0</td>\n",
              "      <td>0</td>\n",
              "      <td>0</td>\n",
              "      <td>...</td>\n",
              "      <td>NaN</td>\n",
              "      <td>NaN</td>\n",
              "      <td>NaN</td>\n",
              "      <td>NaN</td>\n",
              "      <td>NaN</td>\n",
              "      <td>NaN</td>\n",
              "      <td>NaN</td>\n",
              "      <td>2020</td>\n",
              "      <td>2</td>\n",
              "      <td>2020-02-24 18:00:00</td>\n",
              "    </tr>\n",
              "    <tr>\n",
              "      <th>4</th>\n",
              "      <td>2020-02-24T18:00:00</td>\n",
              "      <td>ITA</td>\n",
              "      <td>8</td>\n",
              "      <td>Emilia-Romagna</td>\n",
              "      <td>44.494367</td>\n",
              "      <td>11.341721</td>\n",
              "      <td>10</td>\n",
              "      <td>2</td>\n",
              "      <td>12</td>\n",
              "      <td>6</td>\n",
              "      <td>...</td>\n",
              "      <td>NaN</td>\n",
              "      <td>NaN</td>\n",
              "      <td>NaN</td>\n",
              "      <td>NaN</td>\n",
              "      <td>NaN</td>\n",
              "      <td>NaN</td>\n",
              "      <td>NaN</td>\n",
              "      <td>2020</td>\n",
              "      <td>2</td>\n",
              "      <td>2020-02-24 18:00:00</td>\n",
              "    </tr>\n",
              "  </tbody>\n",
              "</table>\n",
              "<p>5 rows × 33 columns</p>\n",
              "</div>\n",
              "      <button class=\"colab-df-convert\" onclick=\"convertToInteractive('df-a9856770-918d-4d78-b935-034927f4b0dc')\"\n",
              "              title=\"Convert this dataframe to an interactive table.\"\n",
              "              style=\"display:none;\">\n",
              "        \n",
              "  <svg xmlns=\"http://www.w3.org/2000/svg\" height=\"24px\"viewBox=\"0 0 24 24\"\n",
              "       width=\"24px\">\n",
              "    <path d=\"M0 0h24v24H0V0z\" fill=\"none\"/>\n",
              "    <path d=\"M18.56 5.44l.94 2.06.94-2.06 2.06-.94-2.06-.94-.94-2.06-.94 2.06-2.06.94zm-11 1L8.5 8.5l.94-2.06 2.06-.94-2.06-.94L8.5 2.5l-.94 2.06-2.06.94zm10 10l.94 2.06.94-2.06 2.06-.94-2.06-.94-.94-2.06-.94 2.06-2.06.94z\"/><path d=\"M17.41 7.96l-1.37-1.37c-.4-.4-.92-.59-1.43-.59-.52 0-1.04.2-1.43.59L10.3 9.45l-7.72 7.72c-.78.78-.78 2.05 0 2.83L4 21.41c.39.39.9.59 1.41.59.51 0 1.02-.2 1.41-.59l7.78-7.78 2.81-2.81c.8-.78.8-2.07 0-2.86zM5.41 20L4 18.59l7.72-7.72 1.47 1.35L5.41 20z\"/>\n",
              "  </svg>\n",
              "      </button>\n",
              "      \n",
              "  <style>\n",
              "    .colab-df-container {\n",
              "      display:flex;\n",
              "      flex-wrap:wrap;\n",
              "      gap: 12px;\n",
              "    }\n",
              "\n",
              "    .colab-df-convert {\n",
              "      background-color: #E8F0FE;\n",
              "      border: none;\n",
              "      border-radius: 50%;\n",
              "      cursor: pointer;\n",
              "      display: none;\n",
              "      fill: #1967D2;\n",
              "      height: 32px;\n",
              "      padding: 0 0 0 0;\n",
              "      width: 32px;\n",
              "    }\n",
              "\n",
              "    .colab-df-convert:hover {\n",
              "      background-color: #E2EBFA;\n",
              "      box-shadow: 0px 1px 2px rgba(60, 64, 67, 0.3), 0px 1px 3px 1px rgba(60, 64, 67, 0.15);\n",
              "      fill: #174EA6;\n",
              "    }\n",
              "\n",
              "    [theme=dark] .colab-df-convert {\n",
              "      background-color: #3B4455;\n",
              "      fill: #D2E3FC;\n",
              "    }\n",
              "\n",
              "    [theme=dark] .colab-df-convert:hover {\n",
              "      background-color: #434B5C;\n",
              "      box-shadow: 0px 1px 3px 1px rgba(0, 0, 0, 0.15);\n",
              "      filter: drop-shadow(0px 1px 2px rgba(0, 0, 0, 0.3));\n",
              "      fill: #FFFFFF;\n",
              "    }\n",
              "  </style>\n",
              "\n",
              "      <script>\n",
              "        const buttonEl =\n",
              "          document.querySelector('#df-a9856770-918d-4d78-b935-034927f4b0dc button.colab-df-convert');\n",
              "        buttonEl.style.display =\n",
              "          google.colab.kernel.accessAllowed ? 'block' : 'none';\n",
              "\n",
              "        async function convertToInteractive(key) {\n",
              "          const element = document.querySelector('#df-a9856770-918d-4d78-b935-034927f4b0dc');\n",
              "          const dataTable =\n",
              "            await google.colab.kernel.invokeFunction('convertToInteractive',\n",
              "                                                     [key], {});\n",
              "          if (!dataTable) return;\n",
              "\n",
              "          const docLinkHtml = 'Like what you see? Visit the ' +\n",
              "            '<a target=\"_blank\" href=https://colab.research.google.com/notebooks/data_table.ipynb>data table notebook</a>'\n",
              "            + ' to learn more about interactive tables.';\n",
              "          element.innerHTML = '';\n",
              "          dataTable['output_type'] = 'display_data';\n",
              "          await google.colab.output.renderOutput(dataTable, element);\n",
              "          const docLink = document.createElement('div');\n",
              "          docLink.innerHTML = docLinkHtml;\n",
              "          element.appendChild(docLink);\n",
              "        }\n",
              "      </script>\n",
              "    </div>\n",
              "  </div>\n",
              "  "
            ]
          },
          "metadata": {},
          "execution_count": 46
        }
      ]
    },
    {
      "cell_type": "markdown",
      "source": [
        "Вот этот сайт маст хев https://www.python-graph-gallery.com/"
      ],
      "metadata": {
        "id": "IgM86dbSxFnY"
      }
    },
    {
      "cell_type": "code",
      "source": [
        "fig, ax = plt.subplots(figsize=(8, 6))\n",
        "ax.plot(date, covid_italy.deceduti);"
      ],
      "metadata": {
        "colab": {
          "base_uri": "https://localhost:8080/",
          "height": 374
        },
        "id": "QC5RZMkStD5j",
        "outputId": "103ba973-8c4a-49e3-ccfc-195841581329"
      },
      "execution_count": 49,
      "outputs": [
        {
          "output_type": "display_data",
          "data": {
            "text/plain": [
              "<Figure size 576x432 with 1 Axes>"
            ],
            "image/png": "[encoded data removed]"
          },
          "metadata": {
            "needs_background": "light"
          }
        }
      ]
    },
    {
      "cell_type": "code",
      "source": [
        "fig, ax = plt.subplots(figsize=(8, 6))\n",
        "ax.plot(date, covid_italy.totale_positivi);"
      ],
      "metadata": {
        "colab": {
          "base_uri": "https://localhost:8080/",
          "height": 374
        },
        "id": "N700A3_lvM1F",
        "outputId": "3bd0196b-3fc4-4d0f-b007-ceba5f4c40df"
      },
      "execution_count": 50,
      "outputs": [
        {
          "output_type": "display_data",
          "data": {
            "text/plain": [
              "<Figure size 576x432 with 1 Axes>"
            ],
            "image/png": "[encoded data removed]"
          },
          "metadata": {
            "needs_background": "light"
          }
        }
      ]
    },
    {
      "cell_type": "code",
      "source": [
        "covid_italy.totale_positivi.describe()"
      ],
      "metadata": {
        "colab": {
          "base_uri": "https://localhost:8080/"
        },
        "id": "WCbG9jH3xTkG",
        "outputId": "e41f4df8-65d1-4da0-898f-8733a5abda6a"
      },
      "execution_count": 54,
      "outputs": [
        {
          "output_type": "execute_result",
          "data": {
            "text/plain": [
              "count     18921.000000\n",
              "mean      23466.178637\n",
              "std       45630.558061\n",
              "min           0.000000\n",
              "25%        1084.000000\n",
              "50%        5951.000000\n",
              "75%       22854.000000\n",
              "max      578257.000000\n",
              "Name: totale_positivi, dtype: float64"
            ]
          },
          "metadata": {},
          "execution_count": 54
        }
      ]
    },
    {
      "cell_type": "code",
      "source": [
        ""
      ],
      "metadata": {
        "id": "Pc0gYmdrxiSM"
      },
      "execution_count": null,
      "outputs": []
    }
  ]
}